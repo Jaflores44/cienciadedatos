{
 "cells": [
  {
   "cell_type": "markdown",
   "id": "ee0a42ed-5858-4fd5-b992-4385938c5ca0",
   "metadata": {},
   "source": [
    "# Data science tools and ecosystems "
   ]
  },
  {
   "cell_type": "markdown",
   "id": "4431e7dc-faac-458b-9e7e-8799ebf07a11",
   "metadata": {},
   "source": [
    "__objetivos:__\n",
    "- bibliotecas esenciales\n",
    "- flujos de trabajo y colaboracion\n",
    "- herramientas de desarrollo de codigo abierto"
   ]
  },
  {
   "cell_type": "markdown",
   "id": "74d78112-b9a1-46dd-bf1d-0a518d7ba37b",
   "metadata": {},
   "source": [
    "En este cuaderno, se resumen las herraminetas y ecosistemas de cienca de datos"
   ]
  },
  {
   "cell_type": "markdown",
   "id": "94a9fb2a-240b-4eb3-a4e2-c3f4819dc93a",
   "metadata": {},
   "source": [
    "Algunos de los lenguajes populares que utilizan los cientificos de datos son: \n",
    "1. Pyhton\n",
    "2. R\n",
    "3. SQL"
   ]
  },
  {
   "cell_type": "markdown",
   "id": "722a04ae-c33a-42cf-a5f2-1242be24248b",
   "metadata": {},
   "source": [
    "Algunas de las bibliotecas comunmente utilizadas por los cientificos de datos incluyen: \n",
    "1. Pandas\n",
    "2. Polars\n",
    "3. Dask\n"
   ]
  },
  {
   "cell_type": "markdown",
   "id": "100d18ea-0284-4f2c-b847-44bdf6211d95",
   "metadata": {},
   "source": [
    "| Herramientas de ciencia de datos |\n",
    "| ------ |\n",
    "| Jupyter | \n",
    "| VS Code |\n",
    "| Apache zeppelin |"
   ]
  },
  {
   "cell_type": "markdown",
   "id": "9cadb629-e219-4ee1-8cdc-3db7111caeab",
   "metadata": {},
   "source": [
    "### a continuacion, se presentan algunos ejemplos de evaluacion de expresiones aritméticas en python"
   ]
  },
  {
   "cell_type": "code",
   "execution_count": 2,
   "id": "6564c7d8-cef7-434f-a2a4-7ccb7fd8f9a5",
   "metadata": {},
   "outputs": [
    {
     "data": {
      "text/plain": [
       "17"
      ]
     },
     "execution_count": 2,
     "metadata": {},
     "output_type": "execute_result"
    }
   ],
   "source": [
    "# esta es una expresion aritmetica simple para multiplicar yluego sumar enteros.\n",
    "(3*4)+5"
   ]
  },
  {
   "cell_type": "code",
   "execution_count": 3,
   "id": "6165b188-ad07-424a-8411-5735a069ac5a",
   "metadata": {},
   "outputs": [
    {
     "data": {
      "text/plain": [
       "3.3333333333333335"
      ]
     },
     "execution_count": 3,
     "metadata": {},
     "output_type": "execute_result"
    }
   ],
   "source": [
    "#esto convertira 200 minutos en horas\n",
    "200/60"
   ]
  },
  {
   "cell_type": "markdown",
   "id": "97017ce3-a6cf-4384-ad9e-732ec584618a",
   "metadata": {},
   "source": [
    "## Autor\n",
    "Javier Flores Pino"
   ]
  }
 ],
 "metadata": {
  "kernelspec": {
   "display_name": "Python 3 (ipykernel)",
   "language": "python",
   "name": "python3"
  },
  "language_info": {
   "codemirror_mode": {
    "name": "ipython",
    "version": 3
   },
   "file_extension": ".py",
   "mimetype": "text/x-python",
   "name": "python",
   "nbconvert_exporter": "python",
   "pygments_lexer": "ipython3",
   "version": "3.12.8"
  }
 },
 "nbformat": 4,
 "nbformat_minor": 5
}
